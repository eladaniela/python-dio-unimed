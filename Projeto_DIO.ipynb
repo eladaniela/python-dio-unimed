{
  "nbformat": 4,
  "nbformat_minor": 0,
  "metadata": {
    "colab": {
      "provenance": [],
      "authorship_tag": "ABX9TyNnUmDr1j4KO8k2IW1AlmmZ"
    },
    "kernelspec": {
      "name": "python3",
      "display_name": "Python 3"
    },
    "language_info": {
      "name": "python"
    }
  },
  "cells": [
    {
      "cell_type": "code",
      "execution_count": null,
      "metadata": {
        "id": "gv171lf0PiAU"
      },
      "outputs": [],
      "source": [
        "print(\"Olá Mundo!\")"
      ]
    },
    {
      "cell_type": "code",
      "source": [
        "print(\"Estou aprendendo Python\")"
      ],
      "metadata": {
        "id": "VAurruBjP0yx"
      },
      "execution_count": null,
      "outputs": []
    },
    {
      "cell_type": "code",
      "source": [
        "print(1 + 1)"
      ],
      "metadata": {
        "id": "7hz4cZ_9P8IL"
      },
      "execution_count": null,
      "outputs": []
    },
    {
      "cell_type": "code",
      "source": [
        "print(10 - 2)"
      ],
      "metadata": {
        "id": "7MT4esDpQJpy"
      },
      "execution_count": null,
      "outputs": []
    },
    {
      "cell_type": "code",
      "source": [
        "#Este é um comentário em Python"
      ],
      "metadata": {
        "id": "OrHvou16QNf-"
      },
      "execution_count": null,
      "outputs": []
    },
    {
      "cell_type": "code",
      "source": [
        "print(2 * 2)"
      ],
      "metadata": {
        "id": "9YecDtkOQTf2"
      },
      "execution_count": null,
      "outputs": []
    },
    {
      "cell_type": "code",
      "source": [
        "print(10  / 2)"
      ],
      "metadata": {
        "id": "Ur2ImvbqQW2R"
      },
      "execution_count": null,
      "outputs": []
    },
    {
      "cell_type": "code",
      "source": [
        "a = 4\n",
        "b = 6\n",
        "print( a + b)"
      ],
      "metadata": {
        "id": "o6S_cbZkQeFM"
      },
      "execution_count": null,
      "outputs": []
    },
    {
      "cell_type": "code",
      "source": [
        "frase = \"Python para análise de dados\""
      ],
      "metadata": {
        "id": "q3o3VSR-QozD"
      },
      "execution_count": null,
      "outputs": []
    },
    {
      "cell_type": "code",
      "source": [
        "frase[0]"
      ],
      "metadata": {
        "id": "CtwxPOncQxWd"
      },
      "execution_count": null,
      "outputs": []
    },
    {
      "cell_type": "code",
      "source": [
        "frase[0:10]"
      ],
      "metadata": {
        "id": "YZFTryGkReuG"
      },
      "execution_count": null,
      "outputs": []
    },
    {
      "cell_type": "code",
      "source": [
        "frase[10:]"
      ],
      "metadata": {
        "id": "FgUJrPvMRhh4"
      },
      "execution_count": null,
      "outputs": []
    },
    {
      "cell_type": "code",
      "source": [
        "frase[:17]"
      ],
      "metadata": {
        "id": "Ncq5jZHaRiEF"
      },
      "execution_count": null,
      "outputs": []
    },
    {
      "cell_type": "code",
      "source": [
        "frase.count(\"dados\")"
      ],
      "metadata": {
        "id": "cmgqOD8xRmVf"
      },
      "execution_count": null,
      "outputs": []
    },
    {
      "cell_type": "code",
      "source": [
        "frase.lower()"
      ],
      "metadata": {
        "id": "csT-WEKxRv3D"
      },
      "execution_count": null,
      "outputs": []
    },
    {
      "cell_type": "code",
      "source": [
        "frase.upper()"
      ],
      "metadata": {
        "id": "HOEbTX_MR4rX"
      },
      "execution_count": null,
      "outputs": []
    },
    {
      "cell_type": "code",
      "source": [
        "frase.replace(\"Python\", \"Frases\")"
      ],
      "metadata": {
        "id": "SMS3du26R7w7"
      },
      "execution_count": null,
      "outputs": []
    },
    {
      "cell_type": "code",
      "source": [
        "animais = [1, 2, 3]"
      ],
      "metadata": {
        "id": "n4YbsMMMSe9-"
      },
      "execution_count": 24,
      "outputs": []
    },
    {
      "cell_type": "code",
      "source": [
        "print(animais)"
      ],
      "metadata": {
        "id": "AkseBUF0SnSn"
      },
      "execution_count": null,
      "outputs": []
    },
    {
      "cell_type": "code",
      "source": [
        "animais = [\"Cachorro\", \"Gato\", 12345, 6.5]"
      ],
      "metadata": {
        "id": "a-gdURhGS0GM"
      },
      "execution_count": 26,
      "outputs": []
    },
    {
      "cell_type": "code",
      "source": [
        "print(animais)"
      ],
      "metadata": {
        "id": "7lkFpCblS2Kq"
      },
      "execution_count": null,
      "outputs": []
    },
    {
      "cell_type": "code",
      "source": [
        "print(animais[0])"
      ],
      "metadata": {
        "id": "2D7GDHgcS6Wv"
      },
      "execution_count": null,
      "outputs": []
    },
    {
      "cell_type": "code",
      "source": [
        "print(animais[3])"
      ],
      "metadata": {
        "id": "5KK3yyIkS9_t"
      },
      "execution_count": null,
      "outputs": []
    },
    {
      "cell_type": "code",
      "source": [
        "animais[0] = \"Papagaio\""
      ],
      "metadata": {
        "id": "b9gZU3iqTCEQ"
      },
      "execution_count": 31,
      "outputs": []
    },
    {
      "cell_type": "code",
      "source": [
        "print(animais)"
      ],
      "metadata": {
        "id": "gp9uf-uATGRv"
      },
      "execution_count": null,
      "outputs": []
    },
    {
      "cell_type": "code",
      "source": [
        "animais.remove(\"Gato\")"
      ],
      "metadata": {
        "id": "18h9kv1UTO_a"
      },
      "execution_count": 36,
      "outputs": []
    },
    {
      "cell_type": "code",
      "source": [
        "print(animais)"
      ],
      "metadata": {
        "id": "kSfMqeiETTbT"
      },
      "execution_count": null,
      "outputs": []
    },
    {
      "cell_type": "code",
      "source": [
        "len(animais)"
      ],
      "metadata": {
        "id": "wG9ONdlgTfXQ"
      },
      "execution_count": null,
      "outputs": []
    },
    {
      "cell_type": "code",
      "source": [
        "\"Gato\" in animais"
      ],
      "metadata": {
        "id": "E0F1tj7hTlD7"
      },
      "execution_count": null,
      "outputs": []
    },
    {
      "cell_type": "code",
      "source": [
        "lista = [500, 30, 300, 80, 10]"
      ],
      "metadata": {
        "id": "tBIRcWKnTq7D"
      },
      "execution_count": 40,
      "outputs": []
    },
    {
      "cell_type": "code",
      "source": [
        "max(lista)"
      ],
      "metadata": {
        "id": "BQ3bQzhDT0nb"
      },
      "execution_count": null,
      "outputs": []
    },
    {
      "cell_type": "code",
      "source": [
        "min(lista)"
      ],
      "metadata": {
        "id": "Ku8VlfTcT7SA"
      },
      "execution_count": null,
      "outputs": []
    },
    {
      "cell_type": "code",
      "source": [
        "animais.append(\"Leão\")"
      ],
      "metadata": {
        "id": "tWcF4gLnT-If"
      },
      "execution_count": 44,
      "outputs": []
    },
    {
      "cell_type": "code",
      "source": [
        "print(animais)"
      ],
      "metadata": {
        "id": "jnMiI6ekUDxl"
      },
      "execution_count": null,
      "outputs": []
    },
    {
      "cell_type": "code",
      "source": [
        "animais.extend([\"Cobra\", 6])"
      ],
      "metadata": {
        "id": "FGR9gY55UHhy"
      },
      "execution_count": 48,
      "outputs": []
    },
    {
      "cell_type": "code",
      "source": [
        "print(animais)"
      ],
      "metadata": {
        "id": "G1DI6DaZUciu"
      },
      "execution_count": null,
      "outputs": []
    },
    {
      "cell_type": "code",
      "source": [
        "animais.count(\"Cachorro\")"
      ],
      "metadata": {
        "id": "pZGkO5sgUter"
      },
      "execution_count": null,
      "outputs": []
    },
    {
      "cell_type": "code",
      "source": [
        "lista.sort()"
      ],
      "metadata": {
        "id": "Xhr6C9mLUymU"
      },
      "execution_count": 51,
      "outputs": []
    },
    {
      "cell_type": "code",
      "source": [
        "print(lista)"
      ],
      "metadata": {
        "id": "qlrHGXKHU425"
      },
      "execution_count": null,
      "outputs": []
    },
    {
      "cell_type": "code",
      "source": [
        "#Tuplas, as tuplas usam () como sintaxe"
      ],
      "metadata": {
        "id": "1gXQq3t5VFMP"
      },
      "execution_count": null,
      "outputs": []
    },
    {
      "cell_type": "code",
      "source": [
        "tp = (\"Banana\", \"Maça\", 10, 50)"
      ],
      "metadata": {
        "id": "9_xIX5CBVGij"
      },
      "execution_count": 56,
      "outputs": []
    },
    {
      "cell_type": "code",
      "source": [
        "tp[0]"
      ],
      "metadata": {
        "id": "Tq5Cli32VMdU"
      },
      "execution_count": null,
      "outputs": []
    },
    {
      "cell_type": "code",
      "source": [
        "tp[0] = \"Laranja\""
      ],
      "metadata": {
        "id": "ZNcjhvRdVP0g"
      },
      "execution_count": null,
      "outputs": []
    },
    {
      "cell_type": "code",
      "source": [
        "#Dicionários, para criar um dicionário usamos {}"
      ],
      "metadata": {
        "id": "ifZHsHWRVpIi"
      },
      "execution_count": null,
      "outputs": []
    },
    {
      "cell_type": "code",
      "source": [
        "dc = {\"Maça\":20, \"Banana\":10, \"Laranja\":15, \"Uva\":5}"
      ],
      "metadata": {
        "id": "hB5qKCHhVr0j"
      },
      "execution_count": 61,
      "outputs": []
    },
    {
      "cell_type": "code",
      "source": [
        "print(dc)"
      ],
      "metadata": {
        "id": "3d0ZJiL5WKf9"
      },
      "execution_count": null,
      "outputs": []
    },
    {
      "cell_type": "code",
      "source": [
        "dc[\"Maça\"]"
      ],
      "metadata": {
        "id": "1yZaMywYWbJA"
      },
      "execution_count": null,
      "outputs": []
    },
    {
      "cell_type": "code",
      "source": [
        "dc[\"Maça\"] = 25"
      ],
      "metadata": {
        "id": "Mf5gGC3sWhLv"
      },
      "execution_count": 65,
      "outputs": []
    },
    {
      "cell_type": "code",
      "source": [
        "dc[\"Maça\"]"
      ],
      "metadata": {
        "id": "M15coBq8Wny1"
      },
      "execution_count": null,
      "outputs": []
    },
    {
      "cell_type": "code",
      "source": [
        "dc.keys()"
      ],
      "metadata": {
        "id": "OA-RoiIVW3U4"
      },
      "execution_count": null,
      "outputs": []
    },
    {
      "cell_type": "code",
      "source": [
        "dc.values()"
      ],
      "metadata": {
        "id": "XThjOVA_W6-6"
      },
      "execution_count": null,
      "outputs": []
    },
    {
      "cell_type": "code",
      "source": [
        "dc.setdefault(\"Limão\", 22)"
      ],
      "metadata": {
        "id": "Qg_zgqEJXDju"
      },
      "execution_count": null,
      "outputs": []
    }
  ]
}